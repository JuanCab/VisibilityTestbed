{
 "cells": [
  {
   "cell_type": "markdown",
   "metadata": {},
   "source": [
    "# Visibility Testbed\n",
    "\n",
    "This Jupyter Notebook demonstrates in Safari with handling visibility of elements in CSS.\n",
    "\n",
    "To see this rendering bug in action, download the Jupyter notebook and execute\n",
    "it in the current version of Safari (Version 11.1.2 (13605.3.8)).  \n",
    "\n",
    "Executing this Jupyter Notebook will generate a simple set of widgets.  The goal was that selecting from 'yes' or 'no' on the toggle button changes the CSS for elements on the page, making them visible or invisible.  This works on Google Chrome, but when run on Safari, it doesn't.  \n",
    "\n",
    "**Bug Description**  Safari (Version 11.1.2 (13605.3.8)) does **NOT** display\n",
    "only the proper element after you interact with the toggle button by clicking\n",
    "on the 'no' and 'yes' repeatedly in the ToggleButtons widget.  The behavior\n",
    "seems inconsistent. Sometimes both the \"yes\" and \"no\" elements are visible,\n",
    "sometimes the proper element is visible, but offset (indicating that the\n",
    "`display:none` part of the style has been ignored).\n",
    "\n",
    "Viewing the HTML/JavaScript/CSS code this Jupiter Notebook generates in\n",
    "Safari's Developer mode reveals the CSS style (`display: none; visibility:\n",
    "hidden`) for the hiding the `<DIV>` elements that are supposed to be invisible\n",
    "does seem to be present, but is being ignored by Safari for unknown reasons.\n",
    "\n",
    "**USAGE NOTE**: You can execute this notebook using the 'appmode' button.  It is normal that Safari will warn \n",
    "you that you are 'leaving the page' after hitting the 'appmode' button.  Just click on 'Leave Page', and \n",
    "this notebook will execute in the browser and generate the webpage illustrating the bug. "
   ]
  },
  {
   "cell_type": "code",
   "execution_count": 4,
   "metadata": {},
   "outputs": [
    {
     "data": {
      "application/vnd.jupyter.widget-view+json": {
       "model_id": "55bb5de02dbf49e486852cc0c8105d8f",
       "version_major": 2,
       "version_minor": 0
      },
      "text/plain": [
       "VBox(children=(HTML(value='<b>TITLE LOCATION</b>', layout=Layout(overflow='visible')), VBox(children=(ToggleBu…"
      ]
     },
     "metadata": {},
     "output_type": "display_data"
    }
   ],
   "source": [
    "from IPython.display import display, HTML\n",
    "import ipywidgets as widgets\n",
    "\n",
    "##\n",
    "## Function to toggle control panel we see\n",
    "##\n",
    "def MS_update(change=None):\n",
    "    \"\"\"\n",
    "    Switch controls to display\n",
    "    \"\"\"\n",
    "    if (MS_selector.value == MS_yes):\n",
    "        # Switch the controls\n",
    "        yes_title.value = '<b>(yes option) I should be visible and there should be no signifcant white space below TITLE LOCATION.</b>'\n",
    "        no_title.value = '<b>(no option) I should be invisible!</b>'\n",
    "        MS_no_controls.layout.visibility = 'hidden'\n",
    "        MS_no_controls.layout.display = 'none'\n",
    "        MS_yes_controls.layout.visibility = 'visible'\n",
    "        MS_yes_controls.layout.display = 'contents'\n",
    "    else:\n",
    "        # Switch the controls\n",
    "        yes_title.value = '<b>(yes option) I should be invisible!</b>'\n",
    "        no_title.value = '<b>(no option) I should be visible and there should be no signifcant white space below TITLE LOCATION.</b>'\n",
    "        MS_yes_controls.layout.visibility = 'hidden'\n",
    "        MS_yes_controls.layout.display = 'none'    \n",
    "        MS_no_controls.layout.visibility = 'visible'\n",
    "        MS_no_controls.layout.display = 'contents'\n",
    "\n",
    "##\n",
    "## Create a toggle control panel for selecting to display one of two Widgets\n",
    "##\n",
    "MS_yes = 'yes'\n",
    "MS_no = 'no'\n",
    "\n",
    "MS_selector = widgets.ToggleButtons(options=[MS_yes, MS_no],\n",
    "                                    value=MS_yes,\n",
    "                                    description='Which Option Do You Want?',\n",
    "                                    style = {'description_width': 'initial'},\n",
    "                                    disabled=False,\n",
    "                                    button_style='')\n",
    "                                    \n",
    "# Creates Both Control Panels\n",
    "top_title = widgets.HTML('<b>TITLE LOCATION</b>', layout=widgets.Layout(overflow='visible'))\n",
    "yes_title = widgets.HTML('<b>This is the Yes Control Panel</b>', \n",
    "                         layout=widgets.Layout(overflow='visible'))\n",
    "                                    \n",
    "MS_yes_controls = widgets.VBox([MS_selector, yes_title],\n",
    "                            layout=widgets.Layout(overflow='visible', \n",
    "                                                  visibility='hidden', \n",
    "                                                  display='None'))\n",
    "no_title = widgets.HTML(value=\"<b>This is the No Control Panel</b>\", layout=widgets.Layout(overflow='visible'))\n",
    "MS_no_controls = widgets.VBox([MS_selector, no_title],\n",
    "                            layout=widgets.Layout(overflow='visible', \n",
    "                                                  visibility='hidden', \n",
    "                                                  display='None'))\n",
    "\n",
    "# Decide which controls to initially display depending on Main Sequence setting\n",
    "MS_update()\n",
    "\n",
    "Testbox = widgets.VBox([top_title, MS_yes_controls, MS_no_controls], \n",
    "                            layout=widgets.Layout(overflow='visible') )\n",
    "display(Testbox)\n",
    "                                    \n",
    "# This control determines if we eassume main sequence or not\n",
    "MS_selector.observe(MS_update, names=['value'])"
   ]
  },
  {
   "cell_type": "code",
   "execution_count": null,
   "metadata": {},
   "outputs": [],
   "source": []
  }
 ],
 "metadata": {
  "kernelspec": {
   "display_name": "Python [default]",
   "language": "python",
   "name": "python3"
  },
  "language_info": {
   "codemirror_mode": {
    "name": "ipython",
    "version": 3
   },
   "file_extension": ".py",
   "mimetype": "text/x-python",
   "name": "python",
   "nbconvert_exporter": "python",
   "pygments_lexer": "ipython3",
   "version": "3.6.6"
  }
 },
 "nbformat": 4,
 "nbformat_minor": 2
}
